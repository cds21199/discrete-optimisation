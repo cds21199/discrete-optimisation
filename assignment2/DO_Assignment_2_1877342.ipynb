{
  "nbformat": 4,
  "nbformat_minor": 0,
  "metadata": {
    "colab": {
      "name": "DO-Assignment-2-1877342.ipynb",
      "provenance": [],
      "collapsed_sections": [],
      "authorship_tag": "ABX9TyMLpYIEvhRZfJtFru8aKuWw",
      "include_colab_link": true
    },
    "kernelspec": {
      "name": "python3",
      "display_name": "Python 3"
    },
    "language_info": {
      "name": "python"
    }
  },
  "cells": [
    {
      "cell_type": "markdown",
      "metadata": {
        "id": "view-in-github",
        "colab_type": "text"
      },
      "source": [
        "<a href=\"https://colab.research.google.com/github/cds21199/discrete-optimisation/blob/main/assignment2/DO_Assignment_2_1877342.ipynb\" target=\"_parent\"><img src=\"https://colab.research.google.com/assets/colab-badge.svg\" alt=\"Open In Colab\"/></a>"
      ]
    },
    {
      "cell_type": "code",
      "metadata": {
        "id": "2nkVUFV-L7U6"
      },
      "source": [
        "# imports\n",
        "import numpy as np\n",
        "import math\n",
        "import random"
      ],
      "execution_count": null,
      "outputs": []
    },
    {
      "cell_type": "markdown",
      "metadata": {
        "id": "-3zdALSZL_qA"
      },
      "source": [
        "# DO Assignment 2\n",
        "## Chloë Smith - 1877342"
      ]
    },
    {
      "cell_type": "code",
      "metadata": {
        "colab": {
          "base_uri": "https://localhost:8080/"
        },
        "id": "OUAkAWbdMD8u",
        "outputId": "31685ce9-eef1-434f-f16f-34367d0cc39a"
      },
      "source": [
        "# initialise distance matrix M\n",
        "M = np.array([[0, 1.5, 3, 13, 3.5, 4.5, 1.5],\n",
        "             [0, 0, 1.5, 1.3, 13, 13, 2.3],\n",
        "             [0, 0, 0, 1.5, 3, 13, 3],\n",
        "             [0, 0, 0, 0, 1.5, 13, 20],\n",
        "             [0, 0, 0, 0, 0, 1.5, 3.3],\n",
        "             [0, 0, 0, 0, 0, 0, 1.5],\n",
        "             [0, 0, 0, 0, 0, 0, 0]])\n",
        "M = M + M.T - np.diag(M.diagonal())\n",
        "M"
      ],
      "execution_count": null,
      "outputs": [
        {
          "output_type": "execute_result",
          "data": {
            "text/plain": [
              "array([[ 0. ,  1.5,  3. , 13. ,  3.5,  4.5,  1.5],\n",
              "       [ 1.5,  0. ,  1.5,  1.3, 13. , 13. ,  2.3],\n",
              "       [ 3. ,  1.5,  0. ,  1.5,  3. , 13. ,  3. ],\n",
              "       [13. ,  1.3,  1.5,  0. ,  1.5, 13. , 20. ],\n",
              "       [ 3.5, 13. ,  3. ,  1.5,  0. ,  1.5,  3.3],\n",
              "       [ 4.5, 13. , 13. , 13. ,  1.5,  0. ,  1.5],\n",
              "       [ 1.5,  2.3,  3. , 20. ,  3.3,  1.5,  0. ]])"
            ]
          },
          "metadata": {},
          "execution_count": 2
        }
      ]
    },
    {
      "cell_type": "code",
      "metadata": {
        "id": "mh5opPvPguUF"
      },
      "source": [
        "def path_dist(M, path):\n",
        "  # helper method to calculate path distance given distance matrix M\n",
        "  # calculates cycle back to starting node\n",
        "  dist = 0\n",
        "  for i in range(len(path) - 1):\n",
        "    dist += M[path[i], path[i + 1]]\n",
        "  dist += M[path[len(path)-1], path[0]]\n",
        "  return dist"
      ],
      "execution_count": null,
      "outputs": []
    },
    {
      "cell_type": "code",
      "metadata": {
        "id": "YxIkqum9M4yI",
        "colab": {
          "base_uri": "https://localhost:8080/"
        },
        "outputId": "0b3c0527-5230-45d5-bbc0-d21700e5eb54"
      },
      "source": [
        "num_iter = 10\n",
        "threshold = 0.01\n",
        "num_cities = np.shape(M)[0]\n",
        "\n",
        "improvement = 1 - threshold\n",
        "count_improved = 0\n",
        "best_dist = 0\n",
        "best_route = []\n",
        "\n",
        "num_improved = 0\n",
        "\n",
        "for n in range(num_iter):\n",
        "  # randomly set initial route\n",
        "  route = [0] + random.sample(range(1, num_cities), num_cities - 1)\n",
        "\n",
        "  # 2-opt\n",
        "  if n == 0: # best route at first iteration is initial route\n",
        "    print(\"iter %d initial route:\\t\" % n, end=\"\")\n",
        "    print(route)\n",
        "    best_route = route\n",
        "  best_route_itr = best_route\n",
        "  best_dist_itr = path_dist(M, best_route)\n",
        "\n",
        "\n",
        "  while improvement > threshold:\n",
        "    temp = best_dist_itr\n",
        "    new_dist = temp\n",
        "    for i in range(1, num_cities - 2):\n",
        "      for j in range(i+1, num_cities - 1):\n",
        "        # calculate distance before and after swap\n",
        "        a = M[best_route_itr[i - 1]][best_route_itr[i]] + M[best_route_itr[j]][best_route_itr[j + 1]]\n",
        "        b = M[best_route_itr[i - 1]][best_route_itr[j]] + M[best_route_itr[i]][best_route_itr[j + 1]]\n",
        "\n",
        "        if b < a: # if swap would produce a shorter path\n",
        "          num_improved += 1\n",
        "          # swap\n",
        "          new_route = np.concatenate((best_route_itr[0:i], best_route_itr[j:i-len(best_route_itr)-1: -1], best_route_itr[j+1:len(best_route_itr)]))\n",
        "          new_route = new_route.tolist()\n",
        "          new_route = [int(x) for x in new_route]\n",
        "          # calculate new path distance and update\n",
        "          new_dist = path_dist(M, new_route)\n",
        "          best_route_itr = new_route\n",
        "          best_dist_itr = new_dist\n",
        "          print(\"new_route:\\t\", end=\"\")\n",
        "          print(new_route, end=\"\\t\")\n",
        "          print(\"new_dist:\\t%1.1f\" % new_dist)\n",
        "    # calculate improvement\n",
        "    improvement = 1 - new_dist/temp\n",
        "  # end 2-opt\n",
        "  \n",
        "  if n == 0 or (new_dist < best_dist): # 1st itr results are best results so far\n",
        "    best_route = new_route\n",
        "    best_dist = new_dist\n",
        "\n",
        "print(\"number of improvements:\\t%d\" % num_improved)\n",
        "print(\"best_route:\\t\", end=\"\")\n",
        "print(best_route)\n",
        "print(\"best_dist:\\t%1.1f\" % best_dist)"
      ],
      "execution_count": null,
      "outputs": [
        {
          "output_type": "stream",
          "name": "stdout",
          "text": [
            "iter 0 initial route:\t[0, 5, 3, 4, 2, 6, 1]\n",
            "new_route:\t[0, 2, 4, 3, 5, 6, 1]\tnew_dist:\t25.8\n",
            "new_route:\t[0, 6, 5, 3, 4, 2, 1]\tnew_dist:\t23.5\n",
            "new_route:\t[0, 6, 5, 4, 3, 2, 1]\tnew_dist:\t10.5\n",
            "number of improvements:\t3\n",
            "best_route:\t[0, 6, 5, 4, 3, 2, 1]\n",
            "best_dist:\t10.5\n"
          ]
        }
      ]
    },
    {
      "cell_type": "code",
      "metadata": {
        "id": "HjhFXiEGhnXc"
      },
      "source": [
        ""
      ],
      "execution_count": null,
      "outputs": []
    }
  ]
}