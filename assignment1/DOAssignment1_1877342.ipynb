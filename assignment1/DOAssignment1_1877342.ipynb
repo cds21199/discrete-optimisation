{
  "nbformat": 4,
  "nbformat_minor": 0,
  "metadata": {
    "colab": {
      "name": "DOAssignment1-1877342.ipynb",
      "provenance": [],
      "authorship_tag": "ABX9TyObWj4bO20QRcmQLwruQJoZ",
      "include_colab_link": true
    },
    "kernelspec": {
      "name": "python3",
      "display_name": "Python 3"
    },
    "language_info": {
      "name": "python"
    }
  },
  "cells": [
    {
      "cell_type": "markdown",
      "metadata": {
        "id": "view-in-github",
        "colab_type": "text"
      },
      "source": [
        "<a href=\"https://colab.research.google.com/github/cds21199/discrete-optimisation/blob/main/assignment1/DOAssignment1_1877342.ipynb\" target=\"_parent\"><img src=\"https://colab.research.google.com/assets/colab-badge.svg\" alt=\"Open In Colab\"/></a>"
      ]
    },
    {
      "cell_type": "code",
      "metadata": {
        "id": "4A-hTVEVP-NN"
      },
      "source": [
        "import math\n",
        "import numpy as np\n",
        "import itertools"
      ],
      "execution_count": 1,
      "outputs": []
    },
    {
      "cell_type": "code",
      "metadata": {
        "id": "piq_2j3CR5Ra"
      },
      "source": [
        "# value-weight pairs of items to be considered\n",
        "v_w = [[2,7], [6,3], [8,3], [7,5], [3,4],\n",
        "       [4,7], [6,5], [5,4], [10,15], [9,10],\n",
        "       [8,17], [11,3], [12,6], [15,11], [6,6],\n",
        "       [8,14], [13,4], [14,8], [15,9], [16,10],\n",
        "       [13,14], [14,17], [15,9], [26,24], [13,11],\n",
        "       [9,17], [25,12], [26,14]\n",
        "]\n",
        "\n",
        "# total weight W\n",
        "W = 30"
      ],
      "execution_count": 2,
      "outputs": []
    },
    {
      "cell_type": "markdown",
      "metadata": {
        "id": "1yRVC9CUQP5O"
      },
      "source": [
        "# **Linear Knapsack Problem - Chloë Smith (1877342)**\n",
        "\n",
        "## Algorithm 1: Greedy Algorithm"
      ]
    },
    {
      "cell_type": "code",
      "metadata": {
        "id": "h1z38wAZQJoJ"
      },
      "source": [
        "# TODO use a score or efficiency function, i.e. the profit to weight ratio:\n",
        "# v_i / w_i\n",
        "score = []\n",
        "count = 0\n",
        "for item in v_w:\n",
        "  score.append([item[0]/item[1], count])\n",
        "  count += 1"
      ],
      "execution_count": 3,
      "outputs": []
    },
    {
      "cell_type": "code",
      "metadata": {
        "colab": {
          "base_uri": "https://localhost:8080/"
        },
        "id": "C0jQmiwaQs5j",
        "outputId": "3a433795-3575-4847-c6a3-d1eef95fa1a6"
      },
      "source": [
        "# TODO sort the items non-increasingly according to the efficiency function\n",
        "score = sorted(score, key=lambda x: x[0], reverse=True)\n",
        "\n",
        "print(\"Sorted by score:\")\n",
        "print(score)"
      ],
      "execution_count": 4,
      "outputs": [
        {
          "output_type": "stream",
          "name": "stdout",
          "text": [
            "Sorted by score:\n",
            "[[3.6666666666666665, 11], [3.25, 16], [2.6666666666666665, 2], [2.0833333333333335, 26], [2.0, 1], [2.0, 12], [1.8571428571428572, 27], [1.75, 17], [1.6666666666666667, 18], [1.6666666666666667, 22], [1.6, 19], [1.4, 3], [1.3636363636363635, 13], [1.25, 7], [1.2, 6], [1.1818181818181819, 24], [1.0833333333333333, 23], [1.0, 14], [0.9285714285714286, 20], [0.9, 9], [0.8235294117647058, 21], [0.75, 4], [0.6666666666666666, 8], [0.5714285714285714, 5], [0.5714285714285714, 15], [0.5294117647058824, 25], [0.47058823529411764, 10], [0.2857142857142857, 0]]\n"
          ]
        }
      ]
    },
    {
      "cell_type": "code",
      "metadata": {
        "id": "h1bQX7tnQ6Rk"
      },
      "source": [
        "# TODO add into the knapsack the items with the highest score,\n",
        "# taking note of their cumulative weights until no item can be added\n",
        "knapsack = []\n",
        "weight = 0\n",
        "value = 0\n",
        "for item in score:\n",
        "  if weight + v_w[item[1]][1] > W:\n",
        "    break\n",
        "  knapsack.append(item[1])\n",
        "  weight = weight + v_w[item[1]][1]\n",
        "  value = value + v_w[item[1]][0]"
      ],
      "execution_count": 5,
      "outputs": []
    },
    {
      "cell_type": "code",
      "metadata": {
        "colab": {
          "base_uri": "https://localhost:8080/"
        },
        "id": "7hymR6-nRBhT",
        "outputId": "b0604e1f-408a-40f9-965d-f9c37ffe8889"
      },
      "source": [
        "# TODO return the set of items that satisfied the weight limit and yields max profit\n",
        "print(\"----------ALGORITHM 1----------\")\n",
        "print(\"Total weight:\")\n",
        "print(weight)\n",
        "print(\"Total value:\")\n",
        "print(value)\n",
        "print()\n",
        "print(\"Contents of knapsack (by index):\")\n",
        "print(knapsack)\n",
        "print()\n",
        "print(\"Contents of knapsack (value-weight pairs):\")\n",
        "for item in knapsack:\n",
        "  print(v_w[item], end=\" \")\n",
        "print()"
      ],
      "execution_count": 6,
      "outputs": [
        {
          "output_type": "stream",
          "name": "stdout",
          "text": [
            "----------ALGORITHM 1----------\n",
            "Total weight:\n",
            "25\n",
            "Total value:\n",
            "63\n",
            "\n",
            "Contents of knapsack (by index):\n",
            "[11, 16, 2, 26, 1]\n",
            "\n",
            "Contents of knapsack (value-weight pairs):\n",
            "[11, 3] [13, 4] [8, 3] [25, 12] [6, 3] \n"
          ]
        }
      ]
    },
    {
      "cell_type": "markdown",
      "metadata": {
        "id": "GMi9d1KvRRv-"
      },
      "source": [
        "## Algorithm 2: Polynomial Time Approximation Scheme (PTAS) for the linear knapsack problem"
      ]
    },
    {
      "cell_type": "code",
      "metadata": {
        "id": "mSUIXHg3RHqk"
      },
      "source": [
        "# TODO consider all sets of up to k items (k >= 5) (use k = {3, 4, 5})\n",
        "\n",
        "# returns all subsets of s with cardinality [1, n]\n",
        "def find_subsets(s, n):\n",
        "  subsets = []\n",
        "  for i in range(n):\n",
        "    subsets.extend(list(itertools.combinations(s, i + 1)))\n",
        "  return subsets"
      ],
      "execution_count": 7,
      "outputs": []
    },
    {
      "cell_type": "code",
      "metadata": {
        "colab": {
          "base_uri": "https://localhost:8080/"
        },
        "id": "AGxZSYS4DPVM",
        "outputId": "af4e164e-ab53-420b-bbd3-cbca795d73a6"
      },
      "source": [
        "# test find_subsets\n",
        "print(find_subsets([1,2,3,4,5], 3))"
      ],
      "execution_count": 8,
      "outputs": [
        {
          "output_type": "stream",
          "name": "stdout",
          "text": [
            "[(1,), (2,), (3,), (4,), (5,), (1, 2), (1, 3), (1, 4), (1, 5), (2, 3), (2, 4), (2, 5), (3, 4), (3, 5), (4, 5), (1, 2, 3), (1, 2, 4), (1, 2, 5), (1, 3, 4), (1, 3, 5), (1, 4, 5), (2, 3, 4), (2, 3, 5), (2, 4, 5), (3, 4, 5)]\n"
          ]
        }
      ]
    },
    {
      "cell_type": "code",
      "metadata": {
        "id": "ZtJgiy-M29Wb"
      },
      "source": [
        "K = [3, 4, 5]\n",
        "knapsack_v_w = []\n",
        "# for each value of k\n",
        "for k in K:\n",
        "  P = find_subsets(range(len(v_w)), k)\n",
        "  # eliminate sets where total weight > W to generate S\n",
        "  S = []\n",
        "  for p in P:\n",
        "    knapsack = []\n",
        "    weight = 0\n",
        "    value = 0\n",
        "    for idx in p:\n",
        "      weight += v_w[idx][1]\n",
        "      value += v_w[idx][0]\n",
        "    # if the total weight is less than or equal to W, we can pack these items into the knapsack\n",
        "    if weight <= W:\n",
        "      knapsack.extend(p)\n",
        "    else:\n",
        "      # reset weight and value\n",
        "      weight = 0\n",
        "      value = 0\n",
        "\n",
        "    # now greedily fill the knapsack with other items according to score\n",
        "    for s in score:\n",
        "      if s[1] not in knapsack:\n",
        "        if weight + v_w[s[1]][1] > W:\n",
        "          break\n",
        "        knapsack.append(s[1])\n",
        "        weight += v_w[s[1]][1]\n",
        "        value += v_w[s[1]][0]\n",
        "    # add to list of knapsacks with total value and weight\n",
        "    knapsack_v_w.append([knapsack, value, weight])"
      ],
      "execution_count": 9,
      "outputs": []
    },
    {
      "cell_type": "code",
      "metadata": {
        "id": "vqiuav8HRyLl",
        "colab": {
          "base_uri": "https://localhost:8080/"
        },
        "outputId": "0fcbd68f-2ce2-4139-e26d-4b059029394b"
      },
      "source": [
        "# TODO return highest valued item combination set\n",
        "# sort knapsacks according to value\n",
        "knapsack_v_w = sorted(knapsack_v_w, key=lambda x: x[1], reverse=True)\n",
        "\n",
        "# print knapsack with maximum value\n",
        "print(\"----------ALGORITHM 2----------\")\n",
        "print(\"Total weight:\")\n",
        "print(knapsack_v_w[0][2])\n",
        "print(\"Total value:\")\n",
        "print(knapsack_v_w[0][1])\n",
        "print()\n",
        "print(\"Contents of knapsack (by index):\")\n",
        "print(knapsack_v_w[0][0])\n",
        "print()\n",
        "print(\"Contents of knapsack (value-weight pairs):\")\n",
        "for item in knapsack_v_w[0][0]:\n",
        "  print(v_w[item], end=\" \")\n",
        "print()"
      ],
      "execution_count": 10,
      "outputs": [
        {
          "output_type": "stream",
          "name": "stdout",
          "text": [
            "----------ALGORITHM 2----------\n",
            "Total weight:\n",
            "30\n",
            "Total value:\n",
            "71\n",
            "\n",
            "Contents of knapsack (by index):\n",
            "[17, 11, 16, 2, 26]\n",
            "\n",
            "Contents of knapsack (value-weight pairs):\n",
            "[14, 8] [11, 3] [13, 4] [8, 3] [25, 12] \n"
          ]
        }
      ]
    },
    {
      "cell_type": "code",
      "metadata": {
        "id": "ySYhkCuhR1o4"
      },
      "source": [
        ""
      ],
      "execution_count": 10,
      "outputs": []
    }
  ]
}